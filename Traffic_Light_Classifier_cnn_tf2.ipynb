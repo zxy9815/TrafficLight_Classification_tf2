{
 "cells": [
  {
   "cell_type": "markdown",
   "metadata": {},
   "source": [
    "# Traffic Light Classifier\n",
    "---\n",
    "\n",
    "In this project, you’ll use your knowledge of convolutional neural networks to build a classifier for images of traffic lights! You'll be given a dataset of traffic light images in which one of three lights is illuminated: red, yellow, or green.\n",
    "\n",
    "In this notebook, you'll pre-process these images, build a cnn model, and use your model to classify the traffic light images into three classes: red, yellow, or green. The tasks will be broken down into a few sections:\n",
    "\n",
    "1. **Loading and visualizing the data**. \n",
    "      The first step in any classification task is to be familiar with your data; you'll need to load in the images of traffic lights and visualize them!\n",
    "\n",
    "2. **Pre-processing**. \n",
    "    The input images and output labels need to be standardized. This way, you can analyze all the input images using the same classification pipeline, and you know what output to expect when you eventually classify a *new* image.\n",
    "    The dataset will be splitted into training and test dataset for model training. The dataset can be augmented for better training which is optional in this project.\n",
    "    \n",
    "3. **Build your model using CNN**. \n",
    "    Next, you'll build a CNN model to predict the image class.\n",
    "   \n",
    "4. **Classification and visualizing error**. \n",
    "    Finally, you'll write one function that uses your model to classify *any* traffic light image. This function will take in an image and output a label. You'll also be given code to determine the accuracy of your classification model.    \n",
    "    \n",
    "5. **Evaluate your model**.\n",
    "    To pass this project, your classifier must be >90% accurate and never classify any red lights as green; it's likely that you'll need to improve the accuracy of your classifier by changing existing features or adding new features. I'd also encourage you to try to get as close to 100% accuracy as possible!\n",
    "    \n",
    "Here are some sample images from the dataset (from left to right: red, green, and yellow traffic lights):\n",
    "<img src=\"images/all_lights.png\" width=\"50%\" height=\"50%\">\n"
   ]
  },
  {
   "cell_type": "markdown",
   "metadata": {},
   "source": [
    "---\n",
    "### *Here's what you need to know to complete the project:*\n",
    "\n",
    "Some template code has already been provided for you, but you'll need to implement additional code steps to successfully complete this project. Any code that is required to pass this project is marked with **'(IMPLEMENTATION)'** in the header. There are also a couple of questions about your thoughts as you work through this project, which are marked with **'(QUESTION)'** in the header. Make sure to answer all questions and to check your work against the project rubric to make sure you complete the necessary classification steps!\n",
    "\n",
    "Your project submission will be evaluated based on the code implementations you provide, and on two main classification criteria.\n",
    "Your complete traffic light classifier should have:\n",
    "1. **Greater than 90% accuracy**\n",
    "2. ***Never* classify red lights as green**\n"
   ]
  },
  {
   "cell_type": "markdown",
   "metadata": {},
   "source": [
    "# 1. Loading and Visualizing the Traffic Light Dataset\n",
    "\n",
    "This traffic light dataset consists of 1484 number of color images in 3 categories - red, yellow, and green. As with most human-sourced data, the data is not evenly distributed among the types. There are:\n",
    "* 904 red traffic light images\n",
    "* 536 green traffic light images\n",
    "* 44 yellow traffic light images\n",
    "\n",
    "*Note: All images come from this [MIT self-driving car course](https://selfdrivingcars.mit.edu/) and are licensed under a [Creative Commons Attribution-ShareAlike 4.0 International License](https://creativecommons.org/licenses/by-sa/4.0/).*"
   ]
  },
  {
   "cell_type": "markdown",
   "metadata": {},
   "source": [
    "### Import resources\n",
    "\n",
    "Before you get started on the project code, import the libraries and resources that you'll need."
   ]
  },
  {
   "cell_type": "code",
   "execution_count": 1,
   "metadata": {},
   "outputs": [],
   "source": [
    "import cv2 # computer vision library\n",
    "import helpers # helper functions\n",
    "\n",
    "import random\n",
    "import numpy as np\n",
    "import matplotlib.pyplot as plt\n",
    "import matplotlib.image as mpimg # for loading in images\n",
    "\n",
    "%matplotlib inline"
   ]
  },
  {
   "cell_type": "markdown",
   "metadata": {},
   "source": [
    "## Training and Testing Data\n",
    "\n",
    "All 1484 of the traffic light images are separated into training and testing datasets. \n",
    "\n",
    "* 80% of these images are training images, for you to use as you create a classifier.\n",
    "* 20% are test images, which will be used to test the accuracy of your classifier.\n",
    "* All images are pictures of 3-light traffic lights with one light illuminated.\n",
    "\n",
    "## Define the image directories\n",
    "\n",
    "First, we set some variables to keep track of some where our images are stored:\n",
    "\n",
    "    IMAGE_DIR_TRAINING: the directory where our training image data is stored\n",
    "    IMAGE_DIR_TEST: the directory where our test image data is stored"
   ]
  },
  {
   "cell_type": "code",
   "execution_count": 2,
   "metadata": {},
   "outputs": [],
   "source": [
    "# Image data directories\n",
    "IMAGE_DIR_TRAINING = \"traffic_light_images/training/\"\n",
    "IMAGE_DIR_TEST = \"traffic_light_images/test/\""
   ]
  },
  {
   "cell_type": "markdown",
   "metadata": {},
   "source": [
    "## Load the datasets\n",
    "\n",
    "These first few lines of code will load the training traffic light images and store all of them in a variable, `IMAGE_LIST`. This list contains the images and their associated label (\"red\", \"yellow\", \"green\"). \n",
    "\n",
    "You are encouraged to take a look at the `load_dataset` function in the helpers.py file. This will give you a good idea about how lots of image files can be read in from a directory using the [glob library](https://pymotw.com/2/glob/). The `load_dataset` function takes in the name of an image directory and returns a list of images and their associated labels. \n",
    "\n",
    "For example, the first image-label pair in `IMAGE_LIST` can be accessed by index: \n",
    "``` IMAGE_LIST[0][:]```.\n"
   ]
  },
  {
   "cell_type": "code",
   "execution_count": 3,
   "metadata": {},
   "outputs": [],
   "source": [
    "# Using the load_dataset function in helpers.py\n",
    "# Load training data\n",
    "IMAGE_LIST = helpers.load_dataset(IMAGE_DIR_TRAINING)\n"
   ]
  },
  {
   "cell_type": "markdown",
   "metadata": {},
   "source": [
    "## Visualize the Data\n",
    "\n",
    "The first steps in analyzing any dataset are to 1. load the data and 2. look at the data. Seeing what it looks like will give you an idea of what to look for in the images, what kind of noise or inconsistencies you have to deal with, and so on. This will help you understand the image dataset, and **understanding a dataset is part of making predictions about the data**."
   ]
  },
  {
   "cell_type": "markdown",
   "metadata": {},
   "source": [
    "---\n",
    "### Visualize the input images\n",
    "\n",
    "Visualize and explore the image data! Write code to display an image in `IMAGE_LIST`:\n",
    "* Display the image\n",
    "* Print out the shape of the image \n",
    "* Print out its corresponding label\n",
    "\n",
    "See if you can display at least one of each type of traffic light image – red, green, and yellow — and look at their similarities and differences."
   ]
  },
  {
   "cell_type": "code",
   "execution_count": 4,
   "metadata": {},
   "outputs": [
    {
     "name": "stdout",
     "output_type": "stream",
     "text": [
      "There are 1187 images in all.\n"
     ]
    }
   ],
   "source": [
    "# Print the number of data\n",
    "print(\"There are {} images in all.\".format(len(IMAGE_LIST)))"
   ]
  },
  {
   "cell_type": "code",
   "execution_count": 5,
   "metadata": {},
   "outputs": [
    {
     "name": "stdout",
     "output_type": "stream",
     "text": [
      "The shape of the selected image: (69, 32, 3).\n",
      "The label of the selected image: yellow.\n"
     ]
    },
    {
     "data": {
      "image/png": "[encoded data removed]",
      "text/plain": [
       "<Figure size 432x288 with 1 Axes>"
      ]
     },
     "metadata": {
      "needs_background": "light"
     },
     "output_type": "display_data"
    }
   ],
   "source": [
    "## DONE: Write code to display an image in IMAGE_LIST (try finding a yellow traffic light!)\n",
    "selected_image = IMAGE_LIST[750][0]\n",
    "plt.imshow(selected_image)\n",
    "\n",
    "## DONE: Print out 1. The shape of the image and 2. The image's label\n",
    "print(\"The shape of the selected image: {}.\".format(selected_image.shape))\n",
    "print(\"The label of the selected image: {}.\".format(IMAGE_LIST[750][1]))"
   ]
  },
  {
   "cell_type": "markdown",
   "metadata": {},
   "source": [
    "# 2. Pre-process the Data\n",
    "\n",
    "After loading in each image, you have to standardize the input and output!\n",
    "\n",
    "### Input\n",
    "\n",
    "This means that every input image should be in the same format, of the same size, and so on. We'll be creating features by performing the same analysis on every picture, and for a classification task like this, it's important that **similar images create similar features**! \n",
    "\n",
    "### Output\n",
    "\n",
    "We also need the output to be a label that is easy to read and easy to compare with other labels. It is good practice to convert categorical data like \"red\" and \"green\" to numerical data.\n",
    "\n",
    "A very common classification output is a 1D list that is the length of the number of classes - three in the case of red, yellow, and green lights - with the values 0 or 1 indicating which class a certain image is. For example, since we have three classes (red, yellow, and green), we can make a list with the order: [red value, yellow value, green value]. In general, order does not matter, we choose the order [red value, yellow value, green value] in this case to reflect the position of each light in descending vertical order.\n",
    "\n",
    "A red light should have the  label: [1, 0, 0]. Yellow should be: [0, 1, 0]. Green should be: [0, 0, 1]. These labels are called **one-hot encoded labels**.\n",
    "\n",
    "*(Note: one-hot encoding will be especially important when you work with [machine learning algorithms](https://machinelearningmastery.com/how-to-one-hot-encode-sequence-data-in-python/)).*\n",
    "\n",
    "<img src=\"images/processing_steps.png\" width=\"80%\" height=\"80%\">\n"
   ]
  },
  {
   "cell_type": "markdown",
   "metadata": {},
   "source": [
    "---\n",
    "<a id='task2'></a>\n",
    "### (IMPLEMENTATION): Standardize the input images\n",
    "\n",
    "* Resize each image to the desired input size: 32x32px.\n",
    "* (Optional) You may choose to crop, shift, or rotate the images in this step as well.\n",
    "\n",
    "It's very common to have square input sizes that can be rotated (and remain the same size), and analyzed in smaller, square patches. It's also important to make all your images the same size so that they can be sent through the same pipeline of classification steps!"
   ]
  },
  {
   "cell_type": "code",
   "execution_count": 6,
   "metadata": {},
   "outputs": [
    {
     "name": "stdout",
     "output_type": "stream",
     "text": [
      "The shape of the standardized image: (32, 32, 3).\n"
     ]
    },
    {
     "data": {
      "text/plain": [
       "<matplotlib.image.AxesImage at 0x7f413811a978>"
      ]
     },
     "execution_count": 6,
     "metadata": {},
     "output_type": "execute_result"
    },
    {
     "data": {
      "image/png": "[encoded data removed]",
      "text/plain": [
       "<Figure size 432x288 with 1 Axes>"
      ]
     },
     "metadata": {
      "needs_background": "light"
     },
     "output_type": "display_data"
    }
   ],
   "source": [
    "# This function should take in an RGB image and return a new, standardized version\n",
    "def standardize_input(image):\n",
    "    \n",
    "    ## DONE: Resize image and pre-process so that all \"standard\" images are the same size  \n",
    "    standard_im = np.copy(image)\n",
    "    standard_im = cv2.resize(standard_im, (32, 32))\n",
    "    \n",
    "    return standard_im\n",
    "\n",
    "# test\n",
    "standardized_image = standardize_input(selected_image)\n",
    "print(\"The shape of the standardized image: {}.\".format(standardized_image.shape))\n",
    "plt.imshow(standardized_image)"
   ]
  },
  {
   "cell_type": "markdown",
   "metadata": {},
   "source": [
    "## Standardize the output\n",
    "\n",
    "With each loaded image, we also specify the expected output. For this, we use **one-hot encoding**.\n",
    "\n",
    "* One-hot encode the labels. To do this, create an array of zeros representing each class of traffic light (red, yellow, green), and set the index of the expected class number to 1. \n",
    "\n",
    "Since we have three classes (red, yellow, and green), we have imposed an order of: [red value, yellow value, green value]. To one-hot encode, say, a yellow light, we would first initialize an array to [0, 0, 0] and change the middle value (the yellow value) to 1: [0, 1, 0].\n"
   ]
  },
  {
   "cell_type": "markdown",
   "metadata": {},
   "source": [
    "---\n",
    "<a id='task3'></a>\n",
    "### (IMPLEMENTATION): Implement one-hot encoding"
   ]
  },
  {
   "cell_type": "code",
   "execution_count": 7,
   "metadata": {},
   "outputs": [
    {
     "name": "stdout",
     "output_type": "stream",
     "text": [
      "[1, 0, 0]\n",
      "[0, 1, 0]\n",
      "[0, 0, 1]\n"
     ]
    }
   ],
   "source": [
    "## DONE: One hot encode an image label\n",
    "## Given a label - \"red\", \"green\", or \"yellow\" - return a one-hot encoded label\n",
    "\n",
    "# Examples: \n",
    "# one_hot_encode(\"red\") should return: [1, 0, 0]\n",
    "# one_hot_encode(\"yellow\") should return: [0, 1, 0]\n",
    "# one_hot_encode(\"green\") should return: [0, 0, 1]\n",
    "\n",
    "def one_hot_encode(label):\n",
    "    \n",
    "    ## DONE: Create a one-hot encoded label that works for all classes of traffic lights\n",
    "    one_hot_encoded = [0, 0, 0]\n",
    "    if label == \"red\":\n",
    "        one_hot_encoded[0] = 1\n",
    "    elif label == \"yellow\":\n",
    "        one_hot_encoded[1] = 1\n",
    "    else:\n",
    "        one_hot_encoded[2] = 1\n",
    "    \n",
    "    return one_hot_encoded\n",
    "\n",
    "# test\n",
    "print(one_hot_encode(\"red\"))\n",
    "print(one_hot_encode(\"yellow\"))\n",
    "print(one_hot_encode(\"green\"))"
   ]
  },
  {
   "cell_type": "markdown",
   "metadata": {},
   "source": [
    "### Testing as you Code\n",
    "\n",
    "After programming a function like this, it's a good idea to test it, and see if it produces the expected output. **In general, it's good practice to test code in small, functional pieces, after you write it**. This way, you can make sure that your code is correct as you continue to build a classifier, and you can identify any errors early on so that they don't compound.\n",
    "\n",
    "All test code can be found in the file `test_functions.py`. You are encouraged to look through that code and add your own testing code if you find it useful!\n",
    "\n",
    "One test function you'll find is: `test_one_hot(self, one_hot_function)` which takes in one argument, a one_hot_encode function, and tests its functionality. If your one_hot_label code does not work as expected, this test will print ot an error message that will tell you a bit about why your code failed. Once your code works, this should print out TEST PASSED."
   ]
  },
  {
   "cell_type": "code",
   "execution_count": 1,
   "metadata": {},
   "outputs": [
    {
     "ename": "NameError",
     "evalue": "name 'one_hot_encode' is not defined",
     "output_type": "error",
     "traceback": [
      "\u001b[0;31m---------------------------------------------------------------------------\u001b[0m",
      "\u001b[0;31mNameError\u001b[0m                                 Traceback (most recent call last)",
      "\u001b[0;32m<ipython-input-1-2dc3b7fa33bf>\u001b[0m in \u001b[0;36m<module>\u001b[0;34m\u001b[0m\n\u001b[1;32m      4\u001b[0m \u001b[0;34m\u001b[0m\u001b[0m\n\u001b[1;32m      5\u001b[0m \u001b[0;31m# Test for one_hot_encode function\u001b[0m\u001b[0;34m\u001b[0m\u001b[0;34m\u001b[0m\u001b[0;34m\u001b[0m\u001b[0m\n\u001b[0;32m----> 6\u001b[0;31m \u001b[0mtests\u001b[0m\u001b[0;34m.\u001b[0m\u001b[0mtest_one_hot\u001b[0m\u001b[0;34m(\u001b[0m\u001b[0mone_hot_encode\u001b[0m\u001b[0;34m)\u001b[0m\u001b[0;34m\u001b[0m\u001b[0;34m\u001b[0m\u001b[0m\n\u001b[0m",
      "\u001b[0;31mNameError\u001b[0m: name 'one_hot_encode' is not defined"
     ]
    }
   ],
   "source": [
    "# Importing the tests\n",
    "import test_functions\n",
    "tests = test_functions.Tests()\n",
    "\n",
    "# Test for one_hot_encode function\n",
    "tests.test_one_hot(one_hot_encode)\n"
   ]
  },
  {
   "cell_type": "markdown",
   "metadata": {},
   "source": [
    "## Construct a `STANDARDIZED_LIST` of input images and output labels.\n",
    "\n",
    "This function takes in a list of image-label pairs and outputs a **standardized** list of resized images and one-hot encoded labels.\n",
    "\n",
    "This uses the functions you defined above to standardize the input and output, so those functions must be complete for this standardization to work!\n"
   ]
  },
  {
   "cell_type": "code",
   "execution_count": 9,
   "metadata": {},
   "outputs": [],
   "source": [
    "def label2index(label):\n",
    "    index = 0\n",
    "    if label == \"red\":\n",
    "        index = 0\n",
    "    elif label == \"yellow\":\n",
    "        index = 1\n",
    "    else:\n",
    "        index = 2\n",
    "    \n",
    "    return index\n",
    "\n",
    "def standardize(image_list):\n",
    "    \n",
    "    # Empty image data array\n",
    "    standard_list = []\n",
    "\n",
    "    # Iterate through all the image-label pairs\n",
    "    for item in image_list:\n",
    "        image = item[0]\n",
    "        label = item[1]\n",
    "\n",
    "        # Standardize the image\n",
    "        standardized_im = standardize_input(image)\n",
    "\n",
    "        # One-hot encode the label\n",
    "        # one_hot_label = one_hot_encode(label)\n",
    "        \n",
    "        # index label\n",
    "        index_label = label2index(label)\n",
    "\n",
    "        # Append the image, and it's one hot encoded label to the full, processed list of image data \n",
    "        standard_list.append((standardized_im, index_label))\n",
    "        \n",
    "    return standard_list\n",
    "\n",
    "# Standardize all training images\n",
    "STANDARDIZED_LIST = standardize(IMAGE_LIST)"
   ]
  },
  {
   "cell_type": "markdown",
   "metadata": {},
   "source": [
    "## Visualize the standardized data\n",
    "\n",
    "Display a standardized image from STANDARDIZED_LIST and compare it with a non-standardized image from IMAGE_LIST. Note that their sizes and appearance are different!"
   ]
  },
  {
   "cell_type": "code",
   "execution_count": 10,
   "metadata": {},
   "outputs": [
    {
     "name": "stdout",
     "output_type": "stream",
     "text": [
      "The label of the standardized image: 0.\n"
     ]
    },
    {
     "data": {
      "image/png": "[encoded data removed]",
      "text/plain": [
       "<Figure size 432x288 with 1 Axes>"
      ]
     },
     "metadata": {
      "needs_background": "light"
     },
     "output_type": "display_data"
    }
   ],
   "source": [
    "## Done: Display a standardized image and its label\n",
    "standardized_img = STANDARDIZED_LIST[500][0]\n",
    "plt.imshow(standardized_img)\n",
    "print(\"The label of the standardized image: {}.\".format(STANDARDIZED_LIST[500][1]))"
   ]
  },
  {
   "cell_type": "markdown",
   "metadata": {},
   "source": [
    "## Preprocess the dataset \n",
    "\n",
    "### Split the dataset\n",
    "\n",
    "Use the function `train_test_split()` in sklearn to split the dataset into training data and test data."
   ]
  },
  {
   "cell_type": "code",
   "execution_count": 11,
   "metadata": {},
   "outputs": [],
   "source": [
    "red_samples, red_labels = [], []\n",
    "yellow_samples, yellow_labels = [], []\n",
    "green_samples, green_labels = [], []\n",
    "\n",
    "for item in STANDARDIZED_LIST:\n",
    "    image = item[0]\n",
    "    label = item[1]\n",
    "    \n",
    "    if label == 0:\n",
    "        red_samples.append(image)\n",
    "        red_labels.append(label)\n",
    "    elif label == 1:\n",
    "        yellow_samples.append(image)\n",
    "        yellow_labels.append(label)\n",
    "    else:\n",
    "        green_samples.append(image)\n",
    "        green_labels.append(label)\n",
    "    "
   ]
  },
  {
   "cell_type": "code",
   "execution_count": 12,
   "metadata": {},
   "outputs": [],
   "source": [
    "from sklearn.model_selection import train_test_split\n",
    "\n",
    "X_red_train, X_red_test, y_red_train, y_red_test = train_test_split(\n",
    "    red_samples,\n",
    "    red_labels,\n",
    "    test_size=0.05,\n",
    "    random_state=42\n",
    ")\n",
    "\n",
    "X_yellow_train, X_yellow_test, y_yellow_train, y_yellow_test = train_test_split(\n",
    "    yellow_samples,\n",
    "    yellow_labels,\n",
    "    test_size=0.05,\n",
    "    random_state=42\n",
    ")\n",
    "\n",
    "X_green_train, X_green_test, y_green_train, y_green_test = train_test_split(\n",
    "    green_samples,\n",
    "    green_labels,\n",
    "    test_size=0.05,\n",
    "    random_state=42\n",
    ")\n",
    "\n",
    "X_train = np.concatenate([X_red_train, X_yellow_train, X_green_train], axis=0)\n",
    "y_train = np.concatenate([y_red_train, y_yellow_train, y_green_train], axis=0)\n",
    "\n",
    "X_test = np.concatenate([X_red_test, X_yellow_test, X_green_test], axis=0)\n",
    "y_test = np.concatenate([y_red_test, y_yellow_test, y_green_test], axis=0)"
   ]
  },
  {
   "cell_type": "markdown",
   "metadata": {},
   "source": [
    "### Parameters of the training and test data"
   ]
  },
  {
   "cell_type": "code",
   "execution_count": 13,
   "metadata": {},
   "outputs": [
    {
     "name": "stdout",
     "output_type": "stream",
     "text": [
      "Number of training examples = 1126\n",
      "Number of testing examples = 61\n",
      "Image data shape = (32, 32)\n",
      "Number of classes = 3\n",
      "Train memory amount (Mb) = 3.3020496368408203\n",
      "Test memory amount (Mb) = 0.17888545989990234\n",
      "All memory amount (Mb) = 3.4809350967407227\n"
     ]
    }
   ],
   "source": [
    "# Number of training examples\n",
    "n_train = X_train.shape[0]\n",
    "\n",
    "# Number of testing examples.\n",
    "n_test = X_test.shape[0]\n",
    "\n",
    "# What's the shape of a standardized image?\n",
    "image_shape = X_train.shape[1:3]\n",
    "\n",
    "# DONE: How many unique classes/labels there are in the dataset.\n",
    "n_classes = 3\n",
    "\n",
    "print(\"Number of training examples =\", n_train)\n",
    "print(\"Number of testing examples =\", n_test)\n",
    "print(\"Image data shape =\", image_shape)\n",
    "print(\"Number of classes =\", n_classes)\n",
    "\n",
    "train_memory_amount = n_train * (image_shape[0] * image_shape[1] * 3 + n_classes) / 1024 / 1024\n",
    "test_memory_amount = n_test * (image_shape[0] * image_shape[1] * 3 + n_classes) / 1024 / 1024\n",
    "all_memory_amount = train_memory_amount + test_memory_amount\n",
    "print(\"Train memory amount (Mb) =\", train_memory_amount)\n",
    "print(\"Test memory amount (Mb) =\", test_memory_amount)\n",
    "print(\"All memory amount (Mb) =\", all_memory_amount)"
   ]
  },
  {
   "cell_type": "markdown",
   "metadata": {},
   "source": [
    "### Data exploration visualization goes here.\n",
    "\n",
    "Feel free to use as many code cells as needed."
   ]
  },
  {
   "cell_type": "code",
   "execution_count": 14,
   "metadata": {},
   "outputs": [
    {
     "name": "stdout",
     "output_type": "stream",
     "text": [
      "(1126, 32, 32, 3)\n",
      "(61, 32, 32, 3)\n"
     ]
    }
   ],
   "source": [
    "print(X_train.shape)\n",
    "print(X_test.shape)"
   ]
  },
  {
   "cell_type": "code",
   "execution_count": 15,
   "metadata": {},
   "outputs": [
    {
     "name": "stdout",
     "output_type": "stream",
     "text": [
      "(32, 32, 3)\n"
     ]
    }
   ],
   "source": [
    "print(X_train[0].shape)"
   ]
  },
  {
   "cell_type": "code",
   "execution_count": 16,
   "metadata": {},
   "outputs": [
    {
     "name": "stdout",
     "output_type": "stream",
     "text": [
      "[686, 33, 407]\n",
      "[37, 2, 22]\n"
     ]
    }
   ],
   "source": [
    "train_classes_sizes = [np.count_nonzero(y_train==i) for i in range(n_classes)] \n",
    "test_classes_sizes = [np.count_nonzero(y_test==i) for i in range(n_classes)]\n",
    "\n",
    "print(train_classes_sizes)\n",
    "print(test_classes_sizes)"
   ]
  },
  {
   "cell_type": "code",
   "execution_count": 17,
   "metadata": {},
   "outputs": [
    {
     "data": {
      "image/png": "[encoded data removed]",
      "text/plain": [
       "<Figure size 360x720 with 6 Axes>"
      ]
     },
     "metadata": {
      "needs_background": "light"
     },
     "output_type": "display_data"
    },
    {
     "data": {
      "image/png": "[encoded data removed]",
      "text/plain": [
       "<Figure size 432x288 with 1 Axes>"
      ]
     },
     "metadata": {
      "needs_background": "light"
     },
     "output_type": "display_data"
    }
   ],
   "source": [
    "from mpl_toolkits.axes_grid1 import ImageGrid\n",
    "\n",
    "def show_images_in_grid(images, rows, cols):\n",
    "    fig = plt.figure (figsize=(5., 10.))\n",
    "    grid = ImageGrid(fig, 111,\n",
    "                     nrows_ncols=(rows, cols),\n",
    "                     axes_pad=0.1\n",
    "                     )\n",
    "    for i in range(len(images)):\n",
    "        grid[i].imshow(images [i])\n",
    "\n",
    "    plt.show()\n",
    "\n",
    "# table of image examples for diffetent classes\n",
    "im_pos = 0\n",
    "X_train_examples = []\n",
    "# num_of_examples = 10\n",
    "for i in range(n_classes):\n",
    "    X_train_examples.append(X_train[im_pos])\n",
    "    im_pos += 100\n",
    "\n",
    "show_images_in_grid(X_train_examples, 1, n_classes)\n",
    "\n",
    "#counts of examples in each classes\n",
    "plt.figure()\n",
    "plt_x = range(n_classes)\n",
    "train_classes_sizes = [np.count_nonzero(y_train==i) for i in range (n_classes)] \n",
    "test_classes_sizes = [np.count_nonzero(y_test==i) for i in range (n_classes)] \n",
    "plt.bar(plt_x, train_classes_sizes, color=(0.2588,0.4433,1.0))\n",
    "plt.bar(plt_x, test_classes_sizes, color=(1.0,0.5,0.62))\n",
    "plt.xlabel('Traffic lights id')\n",
    "plt.ylabel('Count')\n",
    "plt.title('Traffic lights counts in each class train and test dataset')\n",
    "plt.show()"
   ]
  },
  {
   "cell_type": "markdown",
   "metadata": {},
   "source": [
    "### Preprocess the data here.\n",
    "\n",
    "Feel free to use as many code cells as needed."
   ]
  },
  {
   "cell_type": "code",
   "execution_count": 18,
   "metadata": {},
   "outputs": [],
   "source": [
    "# rescaling of pixel magnitudes\n",
    "X_train_preprocessed = np.divide(X_train, 255).astype (np.float32);\n",
    "X_test_preprocessed = np.divide(X_test, 255).astype (np.float32);\n",
    "\n",
    "# dividing into train and validation dataset\n",
    "\n",
    "def shuffle_dataset (dataset_x, dataset_y):\n",
    "    assert len (dataset_x) == len (dataset_y)\n",
    "    p = np.random.permutation(len(dataset_x))\n",
    "    return dataset_x [p], dataset_y [p]\n",
    "\n",
    "def split_into_train_and_validation_dataset (dataset_x, dataset_y, train_proportion):\n",
    "    train_samples_by_classes = []\n",
    "    train_labels_by_classes = []\n",
    "    X_train_samples = np.zeros ((0, image_shape[0], image_shape[1], 3))\n",
    "    y_train_samples = np.zeros ((0,))\n",
    "    X_validation_samples = np.zeros ((0, image_shape[0], image_shape[1], 3))\n",
    "    y_validation_samples = np.zeros ((0,))\n",
    "    sample_index = 0\n",
    "    for class_size in train_classes_sizes:\n",
    "        train_samples_count = int(train_proportion * class_size)\n",
    "\n",
    "        #getting and shuffle one class samples\n",
    "        dataset_x_for_class = dataset_x[sample_index:sample_index + class_size]\n",
    "        dataset_y_for_class = dataset_y[sample_index:sample_index + class_size]\n",
    "        dataset_x_for_class, dataset_y_for_class = shuffle_dataset (dataset_x_for_class, dataset_y_for_class)\n",
    "        \n",
    "        #splitting to train and validation dataset\n",
    "        X_train_for_class = dataset_x_for_class[0:train_samples_count]\n",
    "        y_train_for_class = dataset_y_for_class[0:train_samples_count]\n",
    "        X_valid_for_class = dataset_x_for_class[train_samples_count:class_size]\n",
    "        y_valid_for_class = dataset_y_for_class[train_samples_count:class_size]\n",
    "        \n",
    "        #storing train samples by classes\n",
    "        #this will be used later to generate augmented dataset\n",
    "        train_samples_by_classes.append(X_train_for_class)\n",
    "        train_labels_by_classes.append(y_train_for_class)\n",
    "        \n",
    "        #storing samples in corresponding datasets\n",
    "        X_train_samples = np.concatenate((X_train_samples, X_train_for_class), axis=0)\n",
    "        y_train_samples = np.concatenate((y_train_samples, y_train_for_class), axis=0)\n",
    "        X_validation_samples = np.concatenate((X_validation_samples, X_valid_for_class), axis=0)\n",
    "        y_validation_samples = np.concatenate((y_validation_samples, y_valid_for_class), axis=0)\n",
    "        \n",
    "        sample_index += class_size\n",
    "        \n",
    "    return X_train_samples, y_train_samples, X_validation_samples, y_validation_samples, train_samples_by_classes, train_labels_by_classes\n",
    "\n",
    "X_train_for_learning, \\\n",
    "y_train_for_learning, \\\n",
    "X_valid_for_learning, \\\n",
    "y_valid_for_learning, \\\n",
    "samples_by_classes, \\\n",
    "labels_by_classes = split_into_train_and_validation_dataset (X_train_preprocessed, y_train, 0.8)"
   ]
  },
  {
   "cell_type": "markdown",
   "metadata": {},
   "source": [
    "### Generate data additional data (OPTIONAL!) and split the data into training/validation/testing sets here.\n",
    "\n",
    "Feel free to use as many code cells as needed."
   ]
  },
  {
   "cell_type": "code",
   "execution_count": 19,
   "metadata": {},
   "outputs": [],
   "source": [
    "import random as rand\n",
    "\n",
    "# generate @generate_count images from given @images\n",
    "def augment_images (images, generate_count):\n",
    "    images_last_index = len (images) - 1\n",
    "    augmented = []\n",
    "    for i in range (generate_count):\n",
    "        im1 = images [rand.randint (0, images_last_index)]\n",
    "        \n",
    "        #rotation and scaling\n",
    "        Mrot = cv2.getRotationMatrix2D((16,16),rand.uniform(-5.0, 5.0), rand.uniform(0.95, 1.05))\n",
    "\n",
    "        #affine transform and shifts\n",
    "        pts1 = np.float32([[0,0],[image_shape[1],0],[image_shape[1], image_shape[0]]])\n",
    "        a = 5;\n",
    "        shift = 8\n",
    "        shiftx = rand.randint (-shift, shift);\n",
    "        shifty = rand.randint (-shift, shift);\n",
    "        pts2 = np.float32([[\n",
    "                    0 + rand.randint (-a, a) + shiftx,\n",
    "                    0 + rand.randint (-a, a) + shifty\n",
    "                ],[\n",
    "                    image_shape[1] + rand.randint (-a, a) + shiftx,\n",
    "                    0 + rand.randint (-a, a) + shifty\n",
    "                ],[\n",
    "                    image_shape[1] + rand.randint (-a, a) + shiftx,\n",
    "                    image_shape[0] + rand.randint (-a, a) + shifty\n",
    "                ]])\n",
    "        M = cv2.getAffineTransform(pts1,pts2)\n",
    "        (h, w) = im1.shape[:2]\n",
    "\n",
    "        augmented_image = cv2.warpAffine(\n",
    "            cv2.warpAffine (\n",
    "                im1\n",
    "                , Mrot, (w, h)\n",
    "            )\n",
    "            , M, (w,h)\n",
    "        )\n",
    "        \n",
    "        augmented_image += rand.uniform(-0.2, 0.2)\n",
    "        np.clip(augmented_image, 0.0, 1.0, out=augmented_image)\n",
    "        \n",
    "        augmented.append (augmented_image)\n",
    "        \n",
    "    return augmented"
   ]
  },
  {
   "cell_type": "markdown",
   "metadata": {},
   "source": [
    "### Augment the data"
   ]
  },
  {
   "cell_type": "code",
   "execution_count": 20,
   "metadata": {},
   "outputs": [],
   "source": [
    "# augmented dataset will be stored in this global variables\n",
    "X_train_augmented = np.zeros ((0, image_shape[0], image_shape[1], 3))\n",
    "y_train_augmented = np.zeros ((0,))\n",
    "\n",
    "#generate images up to 3000 images for each class\n",
    "#augmented dataset will contain only generated images\n",
    "augment_limit = 3000\n",
    "def augment_dataset ():\n",
    "    global X_train_augmented\n",
    "    global y_train_augmented\n",
    "    X_train_augmented = np.zeros ((0, image_shape[0], image_shape[1], 3))\n",
    "    y_train_augmented = np.zeros ((0,))\n",
    "    \n",
    "    for augmenting_index in range(n_classes):\n",
    "        samples = samples_by_classes [augmenting_index]\n",
    "        labels = labels_by_classes [augmenting_index]\n",
    "\n",
    "        augment_count = augment_limit\n",
    "        new_samples = augment_images (samples, augment_count)\n",
    "        y_train_augmented = np.concatenate((y_train_augmented, [augmenting_index for i in range (augment_count)]), axis=0)\n",
    "\n",
    "        X_train_augmented = np.concatenate((X_train_augmented, new_samples), axis=0)"
   ]
  },
  {
   "cell_type": "code",
   "execution_count": 21,
   "metadata": {},
   "outputs": [
    {
     "data": {
      "image/png": "[encoded data removed]",
      "text/plain": [
       "<Figure size 360x720 with 6 Axes>"
      ]
     },
     "metadata": {
      "needs_background": "light"
     },
     "output_type": "display_data"
    },
    {
     "data": {
      "image/png": "[encoded data removed]",
      "text/plain": [
       "<Figure size 360x720 with 6 Axes>"
      ]
     },
     "metadata": {
      "needs_background": "light"
     },
     "output_type": "display_data"
    }
   ],
   "source": [
    "# showing examples of augmented dataset\n",
    "show_images_in_grid ([X_train_for_learning [i] for i in range(3)], 1, 3)\n",
    "augment_dataset ()\n",
    "show_images_in_grid ([X_train_augmented [i] for i in range(0, n_classes * augment_limit, augment_limit)], 1, 3)"
   ]
  },
  {
   "cell_type": "markdown",
   "metadata": {},
   "source": [
    "# 3. Building your CNN Model\n",
    "\n",
    "### Define your architecture here.\n",
    "\n",
    "Feel free to use as many code cells as needed.\n"
   ]
  },
  {
   "cell_type": "code",
   "execution_count": 2,
   "metadata": {},
   "outputs": [],
   "source": [
    "import tensorflow as tf\n",
    "\n",
    "from tensorflow.keras import datasets, layers, models"
   ]
  },
  {
   "cell_type": "code",
   "execution_count": 23,
   "metadata": {},
   "outputs": [
    {
     "name": "stdout",
     "output_type": "stream",
     "text": [
      "Model: \"sequential\"\n",
      "_________________________________________________________________\n",
      "Layer (type)                 Output Shape              Param #   \n",
      "=================================================================\n",
      "conv2d (Conv2D)              (None, 32, 32, 16)        1216      \n",
      "_________________________________________________________________\n",
      "max_pooling2d (MaxPooling2D) (None, 16, 16, 16)        0         \n",
      "_________________________________________________________________\n",
      "conv2d_1 (Conv2D)            (None, 16, 16, 32)        12832     \n",
      "_________________________________________________________________\n",
      "max_pooling2d_1 (MaxPooling2 (None, 8, 8, 32)          0         \n",
      "_________________________________________________________________\n",
      "conv2d_2 (Conv2D)            (None, 8, 8, 32)          25632     \n",
      "_________________________________________________________________\n",
      "max_pooling2d_2 (MaxPooling2 (None, 4, 4, 32)          0         \n",
      "_________________________________________________________________\n",
      "conv2d_3 (Conv2D)            (None, 4, 4, 32)          25632     \n",
      "_________________________________________________________________\n",
      "max_pooling2d_3 (MaxPooling2 (None, 2, 2, 32)          0         \n",
      "_________________________________________________________________\n",
      "flatten (Flatten)            (None, 128)               0         \n",
      "_________________________________________________________________\n",
      "dense (Dense)                (None, 256)               33024     \n",
      "_________________________________________________________________\n",
      "dense_1 (Dense)              (None, 3)                 771       \n",
      "=================================================================\n",
      "Total params: 99,107\n",
      "Trainable params: 99,107\n",
      "Non-trainable params: 0\n",
      "_________________________________________________________________\n"
     ]
    }
   ],
   "source": [
    "model = models.Sequential()\n",
    "model.add(layers.Conv2D(16, (5, 5), activation='relu', padding=\"same\", input_shape=(32, 32, 3)))\n",
    "model.add(layers.MaxPooling2D((2, 2)))\n",
    "model.add(layers.Conv2D(32, (5, 5), activation='relu', padding=\"same\"))\n",
    "model.add(layers.MaxPooling2D((2, 2)))\n",
    "model.add(layers.Conv2D(32, (5, 5), activation='relu', padding=\"same\"))\n",
    "model.add(layers.MaxPooling2D((2, 2)))\n",
    "model.add(layers.Conv2D(32, (5, 5), activation='relu', padding=\"same\"))\n",
    "model.add(layers.MaxPooling2D((2, 2)))\n",
    "model.add(layers.Flatten())\n",
    "model.add(layers.Dense(256, activation='tanh'))\n",
    "model.add(layers.Dense(3))\n",
    "model.summary()"
   ]
  },
  {
   "cell_type": "markdown",
   "metadata": {},
   "source": [
    "### Compile and train the Model"
   ]
  },
  {
   "cell_type": "code",
   "execution_count": 32,
   "metadata": {},
   "outputs": [
    {
     "name": "stdout",
     "output_type": "stream",
     "text": [
      "Epoch 1/10\n",
      "282/282 [==============================] - 7s 25ms/step - loss: 0.1953 - accuracy: 0.9306 - val_loss: 0.0841 - val_accuracy: 0.9648\n",
      "Epoch 2/10\n",
      "282/282 [==============================] - 7s 24ms/step - loss: 0.0404 - accuracy: 0.9848 - val_loss: 0.0086 - val_accuracy: 0.9956\n",
      "Epoch 3/10\n",
      "282/282 [==============================] - 7s 24ms/step - loss: 0.0230 - accuracy: 0.9908 - val_loss: 1.0079e-04 - val_accuracy: 1.0000\n",
      "Epoch 4/10\n",
      "282/282 [==============================] - 7s 24ms/step - loss: 0.0116 - accuracy: 0.9962 - val_loss: 0.0025 - val_accuracy: 1.0000\n",
      "Epoch 5/10\n",
      "282/282 [==============================] - 7s 24ms/step - loss: 0.0106 - accuracy: 0.9971 - val_loss: 0.0092 - val_accuracy: 0.9956\n",
      "Epoch 6/10\n",
      "282/282 [==============================] - 7s 24ms/step - loss: 0.0193 - accuracy: 0.9936 - val_loss: 0.0139 - val_accuracy: 0.9956\n",
      "Epoch 7/10\n",
      "282/282 [==============================] - 7s 24ms/step - loss: 0.0123 - accuracy: 0.9949 - val_loss: 0.0012 - val_accuracy: 1.0000\n",
      "Epoch 8/10\n",
      "282/282 [==============================] - 7s 24ms/step - loss: 0.0169 - accuracy: 0.9938 - val_loss: 0.0021 - val_accuracy: 1.0000\n",
      "Epoch 9/10\n",
      "282/282 [==============================] - 7s 25ms/step - loss: 0.0060 - accuracy: 0.9981 - val_loss: 0.0021 - val_accuracy: 1.0000\n",
      "Epoch 10/10\n",
      "282/282 [==============================] - 7s 24ms/step - loss: 0.0089 - accuracy: 0.9967 - val_loss: 7.9778e-05 - val_accuracy: 1.0000\n"
     ]
    }
   ],
   "source": [
    "model.compile(optimizer='adam',\n",
    "              loss=tf.keras.losses.SparseCategoricalCrossentropy(from_logits=True),\n",
    "              metrics=['accuracy'])\n",
    "\n",
    "history = model.fit(X_train_augmented, y_train_augmented, epochs=10, \n",
    "                    validation_data=(X_valid_for_learning, y_valid_for_learning))"
   ]
  },
  {
   "cell_type": "markdown",
   "metadata": {},
   "source": [
    "### Evaluate the model"
   ]
  },
  {
   "cell_type": "code",
   "execution_count": 33,
   "metadata": {},
   "outputs": [
    {
     "data": {
      "text/plain": [
       "<matplotlib.legend.Legend at 0x7f40b80f22e8>"
      ]
     },
     "execution_count": 33,
     "metadata": {},
     "output_type": "execute_result"
    },
    {
     "data": {
      "image/png": "[encoded data removed]",
      "text/plain": [
       "<Figure size 432x288 with 1 Axes>"
      ]
     },
     "metadata": {
      "needs_background": "light"
     },
     "output_type": "display_data"
    }
   ],
   "source": [
    "plt.plot(history.history['accuracy'], label='accuracy')\n",
    "plt.plot(history.history['val_accuracy'], label = 'val_accuracy')\n",
    "plt.xlabel('Epoch')\n",
    "plt.ylabel('Accuracy')\n",
    "plt.ylim([0.5, 1])\n",
    "plt.legend(loc='lower right')\n",
    "\n",
    "# test_loss, test_acc = model.evaluate(test_images,  test_labels, verbose=2)"
   ]
  },
  {
   "cell_type": "markdown",
   "metadata": {
    "collapsed": true
   },
   "source": [
    "# 4. Classification and Visualizing Error\n",
    "\n",
    "Using all of your features, write a function that takes in an RGB image and, using your extracted features, outputs whether a light is red, green or yellow as a one-hot encoded label. This classification function should be able to classify any image of a traffic light!\n",
    "\n",
    "You are encouraged to write any helper functions or visualization code that you may need, but for testing the accuracy, make sure that this `estimate_label` function returns a one-hot encoded label."
   ]
  },
  {
   "cell_type": "markdown",
   "metadata": {},
   "source": [
    "---\n",
    "<a id='task8'></a>\n",
    "### (IMPLEMENTATION): Build a complete classifier "
   ]
  },
  {
   "cell_type": "code",
   "execution_count": 34,
   "metadata": {},
   "outputs": [
    {
     "name": "stdout",
     "output_type": "stream",
     "text": [
      "0\n"
     ]
    },
    {
     "data": {
      "image/png": "[encoded data removed]",
      "text/plain": [
       "<Figure size 432x288 with 1 Axes>"
      ]
     },
     "metadata": {
      "needs_background": "light"
     },
     "output_type": "display_data"
    }
   ],
   "source": [
    "# This function should take in RGB image input\n",
    "# Analyze that image using your feature creation code and output a one-hot encoded label\n",
    "def estimate_label(rgb_image):\n",
    "\n",
    "    # Preprocess imgae imput\n",
    "    dst = cv2.resize(rgb_image, (32, 32), interpolation=cv2.INTER_CUBIC)\n",
    "\n",
    "    picture = dst.reshape(1, 32, 32, 3)\n",
    "    \n",
    "    picture = np.array(picture, dtype=np.float64)\n",
    "\n",
    "    # print(result_index)\n",
    "    \n",
    "    predicted_label = model.predict(picture)\n",
    "    \n",
    "    score = tf.nn.softmax(predicted_label[0])\n",
    "    \n",
    "    return np.argmax(score)   \n",
    "\n",
    "# test\n",
    "test_image = IMAGE_LIST[500][0]\n",
    "plt.imshow(test_image)\n",
    "\n",
    "print(estimate_label(test_image))"
   ]
  },
  {
   "cell_type": "markdown",
   "metadata": {},
   "source": [
    "## Testing the classifier\n",
    "\n",
    "Here is where we test your classification algorithm using our test set of data that we set aside at the beginning of the notebook! This project will be complete once you've pogrammed a \"good\" classifier.\n",
    "\n",
    "A \"good\" classifier in this case should meet the following criteria (and once it does, feel free to submit your project):\n",
    "1. Get above 90% classification accuracy.\n",
    "2. Never classify a red light as a green light. \n",
    "\n",
    "### Test dataset\n",
    "\n",
    "Below, we load in the test dataset, standardize it using the `standardize` function you defined above, and then **shuffle** it; this ensures that order will not play a role in testing accuracy.\n"
   ]
  },
  {
   "cell_type": "code",
   "execution_count": 35,
   "metadata": {},
   "outputs": [],
   "source": [
    "# Using the load_dataset function in helpers.py\n",
    "# Load test data\n",
    "TEST_IMAGE_LIST = helpers.load_dataset(IMAGE_DIR_TEST)\n",
    "\n",
    "# Standardize the test data\n",
    "STANDARDIZED_TEST_LIST = standardize(TEST_IMAGE_LIST)\n",
    "\n",
    "# Shuffle the standardized test data\n",
    "random.shuffle(STANDARDIZED_TEST_LIST)"
   ]
  },
  {
   "cell_type": "markdown",
   "metadata": {},
   "source": [
    "## Determine the Accuracy\n",
    "\n",
    "Compare the output of your classification algorithm (a.k.a. your \"model\") with the true labels and determine the accuracy.\n",
    "\n",
    "This code stores all the misclassified images, their predicted labels, and their true labels, in a list called `MISCLASSIFIED`. This code is used for testing and *should not be changed*."
   ]
  },
  {
   "cell_type": "code",
   "execution_count": 36,
   "metadata": {},
   "outputs": [
    {
     "name": "stdout",
     "output_type": "stream",
     "text": [
      "true label: 2\n",
      "predicted label: 2\n",
      "true label: 2\n",
      "predicted label: 0\n",
      "true label: 0\n",
      "predicted label: 0\n",
      "true label: 1\n",
      "predicted label: 1\n",
      "true label: 2\n",
      "predicted label: 2\n",
      "true label: 0\n",
      "predicted label: 0\n",
      "true label: 0\n",
      "predicted label: 0\n",
      "true label: 2\n",
      "predicted label: 2\n",
      "true label: 2\n",
      "predicted label: 2\n",
      "true label: 2\n",
      "predicted label: 2\n",
      "true label: 0\n",
      "predicted label: 0\n",
      "true label: 0\n",
      "predicted label: 0\n",
      "true label: 2\n",
      "predicted label: 2\n",
      "true label: 2\n",
      "predicted label: 2\n",
      "true label: 0\n",
      "predicted label: 0\n",
      "true label: 0\n",
      "predicted label: 0\n",
      "true label: 2\n",
      "predicted label: 2\n",
      "true label: 0\n",
      "predicted label: 0\n",
      "true label: 0\n",
      "predicted label: 0\n",
      "true label: 0\n",
      "predicted label: 0\n",
      "true label: 2\n",
      "predicted label: 2\n",
      "true label: 2\n",
      "predicted label: 2\n",
      "true label: 0\n",
      "predicted label: 0\n",
      "true label: 0\n",
      "predicted label: 0\n",
      "true label: 2\n",
      "predicted label: 2\n",
      "true label: 2\n",
      "predicted label: 2\n",
      "true label: 0\n",
      "predicted label: 0\n",
      "true label: 2\n",
      "predicted label: 2\n",
      "true label: 2\n",
      "predicted label: 2\n",
      "true label: 0\n",
      "predicted label: 0\n",
      "true label: 2\n",
      "predicted label: 2\n",
      "true label: 0\n",
      "predicted label: 0\n",
      "true label: 2\n",
      "predicted label: 2\n",
      "true label: 2\n",
      "predicted label: 2\n",
      "true label: 0\n",
      "predicted label: 0\n",
      "true label: 1\n",
      "predicted label: 1\n",
      "true label: 0\n",
      "predicted label: 0\n",
      "true label: 0\n",
      "predicted label: 0\n",
      "true label: 0\n",
      "predicted label: 0\n",
      "true label: 0\n",
      "predicted label: 0\n",
      "true label: 0\n",
      "predicted label: 0\n",
      "true label: 0\n",
      "predicted label: 0\n",
      "true label: 0\n",
      "predicted label: 0\n",
      "true label: 2\n",
      "predicted label: 2\n",
      "true label: 2\n",
      "predicted label: 2\n",
      "true label: 0\n",
      "predicted label: 0\n",
      "true label: 0\n",
      "predicted label: 0\n",
      "true label: 1\n",
      "predicted label: 1\n",
      "true label: 0\n",
      "predicted label: 0\n",
      "true label: 0\n",
      "predicted label: 0\n",
      "true label: 0\n",
      "predicted label: 0\n",
      "true label: 2\n",
      "predicted label: 2\n",
      "true label: 2\n",
      "predicted label: 2\n",
      "true label: 0\n",
      "predicted label: 0\n",
      "true label: 2\n",
      "predicted label: 2\n",
      "true label: 2\n",
      "predicted label: 2\n",
      "true label: 2\n",
      "predicted label: 0\n",
      "true label: 2\n",
      "predicted label: 2\n",
      "true label: 0\n",
      "predicted label: 0\n",
      "true label: 2\n",
      "predicted label: 2\n",
      "true label: 2\n",
      "predicted label: 2\n",
      "true label: 0\n",
      "predicted label: 0\n",
      "true label: 0\n",
      "predicted label: 0\n",
      "true label: 2\n",
      "predicted label: 2\n",
      "true label: 0\n",
      "predicted label: 0\n",
      "true label: 2\n",
      "predicted label: 2\n",
      "true label: 0\n",
      "predicted label: 0\n",
      "true label: 0\n",
      "predicted label: 0\n",
      "true label: 2\n",
      "predicted label: 2\n",
      "true label: 2\n",
      "predicted label: 2\n",
      "true label: 2\n",
      "predicted label: 2\n",
      "true label: 0\n",
      "predicted label: 0\n",
      "true label: 0\n",
      "predicted label: 0\n",
      "true label: 2\n",
      "predicted label: 2\n",
      "true label: 0\n",
      "predicted label: 0\n",
      "true label: 2\n",
      "predicted label: 2\n",
      "true label: 2\n",
      "predicted label: 2\n",
      "true label: 0\n",
      "predicted label: 0\n",
      "true label: 0\n",
      "predicted label: 0\n",
      "true label: 0\n",
      "predicted label: 0\n",
      "true label: 0\n",
      "predicted label: 0\n",
      "true label: 0\n",
      "predicted label: 0\n",
      "true label: 0\n",
      "predicted label: 0\n",
      "true label: 0\n",
      "predicted label: 0\n",
      "true label: 0\n",
      "predicted label: 0\n",
      "true label: 0\n",
      "predicted label: 0\n",
      "true label: 0\n",
      "predicted label: 0\n",
      "true label: 2\n",
      "predicted label: 2\n",
      "true label: 2\n",
      "predicted label: 2\n",
      "true label: 0\n",
      "predicted label: 0\n",
      "true label: 0\n",
      "predicted label: 0\n",
      "true label: 0\n",
      "predicted label: 0\n",
      "true label: 0\n",
      "predicted label: 0\n",
      "true label: 0\n",
      "predicted label: 0\n",
      "true label: 0\n",
      "predicted label: 0\n",
      "true label: 0\n",
      "predicted label: 0\n",
      "true label: 0\n",
      "predicted label: 0\n",
      "true label: 0\n",
      "predicted label: 0\n",
      "true label: 2\n",
      "predicted label: 2\n",
      "true label: 2\n",
      "predicted label: 2\n",
      "true label: 0\n",
      "predicted label: 0\n",
      "true label: 0\n",
      "predicted label: 0\n",
      "true label: 0\n",
      "predicted label: 0\n",
      "true label: 0\n",
      "predicted label: 0\n",
      "true label: 0\n",
      "predicted label: 0\n",
      "true label: 0\n",
      "predicted label: 0\n",
      "true label: 2\n",
      "predicted label: 2\n",
      "true label: 0\n",
      "predicted label: 0\n",
      "true label: 0\n",
      "predicted label: 0\n",
      "true label: 2\n",
      "predicted label: 2\n",
      "true label: 0\n",
      "predicted label: 0\n",
      "true label: 2\n",
      "predicted label: 2\n",
      "true label: 0\n",
      "predicted label: 0\n",
      "true label: 0\n",
      "predicted label: 0\n",
      "true label: 0\n",
      "predicted label: 0\n",
      "true label: 0\n",
      "predicted label: 0\n",
      "true label: 0\n",
      "predicted label: 0\n",
      "true label: 1\n",
      "predicted label: 1\n",
      "true label: 0\n",
      "predicted label: 0\n",
      "true label: 2\n",
      "predicted label: 2\n",
      "true label: 0\n",
      "predicted label: 0\n",
      "true label: 2\n",
      "predicted label: 2\n",
      "true label: 2\n",
      "predicted label: 2\n",
      "true label: 2\n",
      "predicted label: 2\n",
      "true label: 2\n",
      "predicted label: 2\n",
      "true label: 0\n",
      "predicted label: 0\n",
      "true label: 2\n",
      "predicted label: 2\n",
      "true label: 2\n",
      "predicted label: 2\n",
      "true label: 0\n",
      "predicted label: 0\n",
      "true label: 0\n",
      "predicted label: 0\n",
      "true label: 0\n",
      "predicted label: 0\n",
      "true label: 0\n",
      "predicted label: 0\n",
      "true label: 0\n",
      "predicted label: 0\n",
      "true label: 0\n",
      "predicted label: 0\n",
      "true label: 2\n",
      "predicted label: 2\n",
      "true label: 0\n",
      "predicted label: 0\n",
      "true label: 0\n",
      "predicted label: 0\n",
      "true label: 0\n",
      "predicted label: 0\n",
      "true label: 0\n",
      "predicted label: 0\n",
      "true label: 2\n",
      "predicted label: 2\n",
      "true label: 2\n",
      "predicted label: 2\n",
      "true label: 0\n",
      "predicted label: 0\n",
      "true label: 2\n",
      "predicted label: 2\n",
      "true label: 0\n",
      "predicted label: 0\n",
      "true label: 0\n",
      "predicted label: 0\n",
      "true label: 2\n",
      "predicted label: 2\n",
      "true label: 2\n",
      "predicted label: 2\n",
      "true label: 0\n",
      "predicted label: 0\n",
      "true label: 2\n",
      "predicted label: 2\n",
      "true label: 2\n",
      "predicted label: 2\n",
      "true label: 0\n",
      "predicted label: 0\n",
      "true label: 0\n",
      "predicted label: 0\n",
      "true label: 0\n",
      "predicted label: 0\n",
      "true label: 0\n",
      "predicted label: 0\n",
      "true label: 0\n",
      "predicted label: 0\n",
      "true label: 0\n",
      "predicted label: 0\n",
      "true label: 2\n",
      "predicted label: 2\n",
      "true label: 2\n",
      "predicted label: 2\n",
      "true label: 2\n",
      "predicted label: 2\n",
      "true label: 0\n",
      "predicted label: 0\n",
      "true label: 0\n",
      "predicted label: 0\n",
      "true label: 2\n",
      "predicted label: 2\n",
      "true label: 0\n",
      "predicted label: 0\n",
      "true label: 2\n",
      "predicted label: 2\n",
      "true label: 0\n",
      "predicted label: 0\n",
      "true label: 1\n",
      "predicted label: 1\n",
      "true label: 2\n",
      "predicted label: 2\n",
      "true label: 0\n",
      "predicted label: 0\n",
      "true label: 0\n",
      "predicted label: 0\n",
      "true label: 0\n",
      "predicted label: 0\n",
      "true label: 0\n",
      "predicted label: 0\n",
      "true label: 2\n",
      "predicted label: 2\n",
      "true label: 0\n",
      "predicted label: 0\n",
      "true label: 0\n",
      "predicted label: 0\n",
      "true label: 2\n",
      "predicted label: 2\n",
      "true label: 0\n",
      "predicted label: 0\n",
      "true label: 0\n",
      "predicted label: 0\n",
      "true label: 2\n",
      "predicted label: 2\n",
      "true label: 0\n",
      "predicted label: 0\n",
      "true label: 0\n",
      "predicted label: 0\n",
      "true label: 0\n",
      "predicted label: 0\n",
      "true label: 2\n",
      "predicted label: 2\n",
      "true label: 0\n",
      "predicted label: 0\n",
      "true label: 0\n",
      "predicted label: 0\n",
      "true label: 2\n",
      "predicted label: 2\n",
      "true label: 0\n",
      "predicted label: 0\n",
      "true label: 0\n",
      "predicted label: 0\n",
      "true label: 0\n",
      "predicted label: 0\n",
      "true label: 0\n",
      "predicted label: 0\n",
      "true label: 2\n",
      "predicted label: 2\n",
      "true label: 2\n",
      "predicted label: 2\n",
      "true label: 2\n",
      "predicted label: 2\n",
      "true label: 2\n",
      "predicted label: 2\n",
      "true label: 2\n",
      "predicted label: 2\n",
      "true label: 2\n",
      "predicted label: 2\n",
      "true label: 2\n",
      "predicted label: 2\n",
      "true label: 0\n",
      "predicted label: 0\n",
      "true label: 2\n",
      "predicted label: 2\n",
      "true label: 0\n",
      "predicted label: 0\n",
      "true label: 0\n",
      "predicted label: 0\n",
      "true label: 0\n",
      "predicted label: 0\n",
      "true label: 0\n",
      "predicted label: 0\n",
      "true label: 0\n",
      "predicted label: 0\n",
      "true label: 0\n",
      "predicted label: 0\n",
      "true label: 2\n",
      "predicted label: 2\n",
      "true label: 0\n",
      "predicted label: 0\n",
      "true label: 0\n",
      "predicted label: 0\n",
      "true label: 0\n",
      "predicted label: 0\n",
      "true label: 2\n",
      "predicted label: 2\n",
      "true label: 2\n",
      "predicted label: 2\n",
      "true label: 0\n",
      "predicted label: 0\n",
      "true label: 0\n",
      "predicted label: 0\n",
      "true label: 2\n",
      "predicted label: 2\n",
      "true label: 0\n",
      "predicted label: 0\n",
      "true label: 2\n",
      "predicted label: 2\n",
      "true label: 2\n",
      "predicted label: 2\n",
      "true label: 2\n",
      "predicted label: 2\n",
      "true label: 2\n",
      "predicted label: 2\n",
      "true label: 0\n",
      "predicted label: 0\n",
      "true label: 2\n",
      "predicted label: 2\n",
      "true label: 0\n",
      "predicted label: 0\n",
      "true label: 0\n",
      "predicted label: 0\n",
      "true label: 0\n",
      "predicted label: 0\n",
      "true label: 0\n",
      "predicted label: 0\n",
      "true label: 0\n",
      "predicted label: 0\n",
      "true label: 0\n",
      "predicted label: 0\n",
      "true label: 0\n",
      "predicted label: 0\n",
      "true label: 0\n",
      "predicted label: 0\n",
      "true label: 0\n",
      "predicted label: 0\n",
      "true label: 0\n",
      "predicted label: 0\n",
      "true label: 1\n",
      "predicted label: 1\n",
      "true label: 2\n",
      "predicted label: 2\n",
      "true label: 2\n",
      "predicted label: 2\n",
      "true label: 2\n",
      "predicted label: 2\n",
      "true label: 1\n",
      "predicted label: 1\n",
      "true label: 0\n",
      "predicted label: 0\n",
      "true label: 0\n",
      "predicted label: 0\n",
      "true label: 0\n",
      "predicted label: 0\n",
      "true label: 2\n",
      "predicted label: 2\n",
      "true label: 0\n",
      "predicted label: 0\n",
      "true label: 0\n",
      "predicted label: 0\n",
      "true label: 2\n",
      "predicted label: 2\n",
      "true label: 0\n",
      "predicted label: 0\n",
      "true label: 0\n",
      "predicted label: 0\n",
      "true label: 2\n",
      "predicted label: 2\n",
      "true label: 0\n",
      "predicted label: 0\n",
      "true label: 0\n",
      "predicted label: 0\n",
      "true label: 0\n",
      "predicted label: 0\n",
      "true label: 2\n",
      "predicted label: 2\n",
      "true label: 0\n",
      "predicted label: 0\n",
      "true label: 2\n",
      "predicted label: 0\n",
      "true label: 0\n"
     ]
    },
    {
     "name": "stdout",
     "output_type": "stream",
     "text": [
      "predicted label: 0\n",
      "true label: 2\n",
      "predicted label: 2\n",
      "true label: 1\n",
      "predicted label: 1\n",
      "true label: 2\n",
      "predicted label: 2\n",
      "true label: 0\n",
      "predicted label: 0\n",
      "true label: 0\n",
      "predicted label: 0\n",
      "true label: 0\n",
      "predicted label: 0\n",
      "true label: 2\n",
      "predicted label: 2\n",
      "true label: 0\n",
      "predicted label: 0\n",
      "true label: 0\n",
      "predicted label: 0\n",
      "true label: 0\n",
      "predicted label: 0\n",
      "true label: 2\n",
      "predicted label: 2\n",
      "true label: 0\n",
      "predicted label: 0\n",
      "true label: 0\n",
      "predicted label: 0\n",
      "true label: 0\n",
      "predicted label: 0\n",
      "true label: 0\n",
      "predicted label: 0\n",
      "true label: 0\n",
      "predicted label: 0\n",
      "true label: 2\n",
      "predicted label: 2\n",
      "true label: 0\n",
      "predicted label: 0\n",
      "true label: 0\n",
      "predicted label: 0\n",
      "true label: 0\n",
      "predicted label: 0\n",
      "true label: 2\n",
      "predicted label: 2\n",
      "true label: 2\n",
      "predicted label: 2\n",
      "true label: 2\n",
      "predicted label: 2\n",
      "true label: 0\n",
      "predicted label: 0\n",
      "true label: 0\n",
      "predicted label: 0\n",
      "true label: 0\n",
      "predicted label: 0\n",
      "true label: 0\n",
      "predicted label: 0\n",
      "true label: 0\n",
      "predicted label: 0\n",
      "true label: 0\n",
      "predicted label: 0\n",
      "true label: 0\n",
      "predicted label: 0\n",
      "true label: 2\n",
      "predicted label: 2\n",
      "true label: 2\n",
      "predicted label: 2\n",
      "true label: 0\n",
      "predicted label: 0\n",
      "true label: 0\n",
      "predicted label: 0\n",
      "true label: 0\n",
      "predicted label: 0\n",
      "true label: 1\n",
      "predicted label: 1\n",
      "true label: 0\n",
      "predicted label: 0\n",
      "true label: 0\n",
      "predicted label: 0\n",
      "true label: 0\n",
      "predicted label: 0\n",
      "true label: 2\n",
      "predicted label: 2\n",
      "true label: 2\n",
      "predicted label: 2\n",
      "true label: 0\n",
      "predicted label: 0\n",
      "true label: 2\n",
      "predicted label: 2\n",
      "true label: 0\n",
      "predicted label: 0\n",
      "true label: 0\n",
      "predicted label: 0\n",
      "Accuracy: 0.98989898989899\n",
      "Number of misclassified images = 3 out of 297\n"
     ]
    }
   ],
   "source": [
    "# Constructs a list of misclassified images given a list of test images and their labels\n",
    "# This will throw an AssertionError if labels are not standardized (one-hot encoded)\n",
    "\n",
    "def get_misclassified_images(test_images):\n",
    "    # Track misclassified images by placing them into a list\n",
    "    misclassified_images_labels = []\n",
    "\n",
    "    # Iterate through all the test images\n",
    "    # Classify each image and compare to the true label\n",
    "    for image in test_images:\n",
    "\n",
    "        # Get true data\n",
    "        im = image[0]\n",
    "        true_label = image[1]\n",
    "        print(\"true label: {}\".format(true_label))\n",
    "        # assert(len(true_label) == 1), \"The true_label is not the expected length (3).\"\n",
    "\n",
    "        # Get predicted label from your classifier\n",
    "        predicted_label = estimate_label(im)\n",
    "        print(\"predicted label: {}\".format(predicted_label))\n",
    "        # assert(len(predicted_label) == 1), \"The predicted_label is not the expected length (3).\"\n",
    "\n",
    "        # Compare true and predicted labels \n",
    "        if(predicted_label != true_label):\n",
    "            # If these labels are not equal, the image has been misclassified\n",
    "            misclassified_images_labels.append((im, predicted_label, true_label))\n",
    "            \n",
    "    # Return the list of misclassified [image, predicted_label, true_label] values\n",
    "    return misclassified_images_labels\n",
    "\n",
    "\n",
    "# Find all misclassified images in a given test set\n",
    "MISCLASSIFIED = get_misclassified_images(STANDARDIZED_TEST_LIST)\n",
    "\n",
    "# Accuracy calculations\n",
    "total = len(STANDARDIZED_TEST_LIST)\n",
    "num_correct = total - len(MISCLASSIFIED)\n",
    "accuracy = num_correct/total\n",
    "\n",
    "print('Accuracy: ' + str(accuracy))\n",
    "print(\"Number of misclassified images = \" + str(len(MISCLASSIFIED)) +' out of '+ str(total))\n"
   ]
  },
  {
   "cell_type": "markdown",
   "metadata": {},
   "source": [
    "---\n",
    "<a id='task9'></a>\n",
    "### Visualize the misclassified images\n",
    "\n",
    "Visualize some of the images you classified wrong (in the `MISCLASSIFIED` list) and note any qualities that make them difficult to classify. This will help you identify any weaknesses in your classification algorithm."
   ]
  },
  {
   "cell_type": "code",
   "execution_count": 29,
   "metadata": {},
   "outputs": [],
   "source": [
    "# Visualize misclassified example(s)\n",
    "## TODO: Display an image in the `MISCLASSIFIED` list \n",
    "## TODO: Print out its predicted label - to see what the image *was* incorrectly classified as\n"
   ]
  },
  {
   "cell_type": "markdown",
   "metadata": {},
   "source": [
    "---\n",
    "<a id='question2'></a>\n",
    "## (Question 2): After visualizing these misclassifications, what weaknesses do you think your classification algorithm has? Please note at least two."
   ]
  },
  {
   "cell_type": "markdown",
   "metadata": {},
   "source": [
    "**Answer:** Write your answer in this cell."
   ]
  },
  {
   "cell_type": "markdown",
   "metadata": {},
   "source": [
    "## Test if you classify any red lights as green\n",
    "\n",
    "**To pass this project, you must not classify any red lights as green!** Classifying red lights as green would cause a car to drive through a red traffic light, so this red-as-green error is very dangerous in the real world. \n",
    "\n",
    "The code below lets you test to see if you've misclassified any red lights as green in the test set. **This test assumes that `MISCLASSIFIED` is a list of tuples with the order: [misclassified_image, predicted_label, true_label].**\n",
    "\n",
    "Note: this is not an all encompassing test, but its a good indicator that, if you pass, you are on the right track! This iterates through your list of misclassified examples and checks to see if any red traffic lights have been mistakenly labelled [0, 1, 0] (green)."
   ]
  },
  {
   "cell_type": "code",
   "execution_count": 30,
   "metadata": {},
   "outputs": [
    {
     "data": {
      "text/markdown": [
       "**<span style=\"color: green;\">TEST PASSED</span>**"
      ],
      "text/plain": [
       "<IPython.core.display.Markdown object>"
      ]
     },
     "metadata": {},
     "output_type": "display_data"
    }
   ],
   "source": [
    "# Importing the tests\n",
    "import test_functions\n",
    "tests = test_functions.Tests()\n",
    "\n",
    "if(len(MISCLASSIFIED) > 0):\n",
    "    # Test code for one_hot_encode function\n",
    "    tests.test_red_as_green(MISCLASSIFIED)\n",
    "else:\n",
    "    print(\"MISCLASSIFIED may not have been populated with images.\")\n"
   ]
  },
  {
   "cell_type": "markdown",
   "metadata": {},
   "source": [
    "# 5. Improve your algorithm!\n",
    "\n",
    "**Submit your project after you have completed all implementations, answered all questions, AND when you've met the two criteria:**\n",
    "1. Greater than 90% accuracy classification\n",
    "2. No red lights classified as green\n",
    "\n",
    "If you did not meet these requirements (which is common on the first attempt!), revisit your algorithm and tweak it to improve light recognition -- this could mean changing the brightness feature, performing some background subtraction, or adding another feature!\n",
    "\n",
    "---"
   ]
  },
  {
   "cell_type": "markdown",
   "metadata": {
    "collapsed": true
   },
   "source": [
    "### Going Further (Optional Challenges)\n",
    "\n",
    "If you found this challenge easy, I suggest you go above and beyond! Here are a couple **optional** (meaning you do not need to implement these to submit and pass the project) suggestions:\n",
    "* (Optional) Aim for >95% classification accuracy.\n",
    "* (Optional) Some lights are in the shape of arrows; further classify the lights as round or arrow-shaped.\n",
    "* (Optional) Add another feature and aim for as close to 100% accuracy as you can get!"
   ]
  },
  {
   "cell_type": "code",
   "execution_count": null,
   "metadata": {},
   "outputs": [],
   "source": []
  }
 ],
 "metadata": {
  "anaconda-cloud": {},
  "kernelspec": {
   "display_name": "Python 3",
   "language": "python",
   "name": "python3"
  },
  "language_info": {
   "codemirror_mode": {
    "name": "ipython",
    "version": 3
   },
   "file_extension": ".py",
   "mimetype": "text/x-python",
   "name": "python",
   "nbconvert_exporter": "python",
   "pygments_lexer": "ipython3",
   "version": "3.7.2"
  }
 },
 "nbformat": 4,
 "nbformat_minor": 2
}
